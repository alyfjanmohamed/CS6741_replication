{
  "nbformat": 4,
  "nbformat_minor": 0,
  "metadata": {
    "colab": {
      "provenance": [],
      "gpuType": "T4"
    },
    "kernelspec": {
      "name": "python3",
      "display_name": "Python 3"
    },
    "language_info": {
      "name": "python"
    },
    "accelerator": "GPU"
  },
  "cells": [
    {
      "cell_type": "code",
      "execution_count": null,
      "metadata": {
        "colab": {
          "base_uri": "https://localhost:8080/"
        },
        "id": "JLwmHioED7mT",
        "outputId": "ea187efc-f688-494c-98ba-47ce0d026566"
      },
      "outputs": [
        {
          "output_type": "stream",
          "name": "stdout",
          "text": [
            "Requirement already satisfied: accelerate in /usr/local/lib/python3.10/dist-packages (0.29.1)\n",
            "Requirement already satisfied: numpy>=1.17 in /usr/local/lib/python3.10/dist-packages (from accelerate) (1.25.2)\n",
            "Requirement already satisfied: packaging>=20.0 in /usr/local/lib/python3.10/dist-packages (from accelerate) (24.0)\n",
            "Requirement already satisfied: psutil in /usr/local/lib/python3.10/dist-packages (from accelerate) (5.9.5)\n",
            "Requirement already satisfied: pyyaml in /usr/local/lib/python3.10/dist-packages (from accelerate) (6.0.1)\n",
            "Requirement already satisfied: torch>=1.10.0 in /usr/local/lib/python3.10/dist-packages (from accelerate) (2.2.1+cu121)\n",
            "Requirement already satisfied: huggingface-hub in /usr/local/lib/python3.10/dist-packages (from accelerate) (0.20.3)\n",
            "Requirement already satisfied: safetensors>=0.3.1 in /usr/local/lib/python3.10/dist-packages (from accelerate) (0.4.2)\n",
            "Requirement already satisfied: filelock in /usr/local/lib/python3.10/dist-packages (from torch>=1.10.0->accelerate) (3.13.3)\n",
            "Requirement already satisfied: typing-extensions>=4.8.0 in /usr/local/lib/python3.10/dist-packages (from torch>=1.10.0->accelerate) (4.10.0)\n",
            "Requirement already satisfied: sympy in /usr/local/lib/python3.10/dist-packages (from torch>=1.10.0->accelerate) (1.12)\n",
            "Requirement already satisfied: networkx in /usr/local/lib/python3.10/dist-packages (from torch>=1.10.0->accelerate) (3.2.1)\n",
            "Requirement already satisfied: jinja2 in /usr/local/lib/python3.10/dist-packages (from torch>=1.10.0->accelerate) (3.1.3)\n",
            "Requirement already satisfied: fsspec in /usr/local/lib/python3.10/dist-packages (from torch>=1.10.0->accelerate) (2023.6.0)\n",
            "Requirement already satisfied: nvidia-cuda-nvrtc-cu12==12.1.105 in /usr/local/lib/python3.10/dist-packages (from torch>=1.10.0->accelerate) (12.1.105)\n",
            "Requirement already satisfied: nvidia-cuda-runtime-cu12==12.1.105 in /usr/local/lib/python3.10/dist-packages (from torch>=1.10.0->accelerate) (12.1.105)\n",
            "Requirement already satisfied: nvidia-cuda-cupti-cu12==12.1.105 in /usr/local/lib/python3.10/dist-packages (from torch>=1.10.0->accelerate) (12.1.105)\n",
            "Requirement already satisfied: nvidia-cudnn-cu12==8.9.2.26 in /usr/local/lib/python3.10/dist-packages (from torch>=1.10.0->accelerate) (8.9.2.26)\n",
            "Requirement already satisfied: nvidia-cublas-cu12==12.1.3.1 in /usr/local/lib/python3.10/dist-packages (from torch>=1.10.0->accelerate) (12.1.3.1)\n",
            "Requirement already satisfied: nvidia-cufft-cu12==11.0.2.54 in /usr/local/lib/python3.10/dist-packages (from torch>=1.10.0->accelerate) (11.0.2.54)\n",
            "Requirement already satisfied: nvidia-curand-cu12==10.3.2.106 in /usr/local/lib/python3.10/dist-packages (from torch>=1.10.0->accelerate) (10.3.2.106)\n",
            "Requirement already satisfied: nvidia-cusolver-cu12==11.4.5.107 in /usr/local/lib/python3.10/dist-packages (from torch>=1.10.0->accelerate) (11.4.5.107)\n",
            "Requirement already satisfied: nvidia-cusparse-cu12==12.1.0.106 in /usr/local/lib/python3.10/dist-packages (from torch>=1.10.0->accelerate) (12.1.0.106)\n",
            "Requirement already satisfied: nvidia-nccl-cu12==2.19.3 in /usr/local/lib/python3.10/dist-packages (from torch>=1.10.0->accelerate) (2.19.3)\n",
            "Requirement already satisfied: nvidia-nvtx-cu12==12.1.105 in /usr/local/lib/python3.10/dist-packages (from torch>=1.10.0->accelerate) (12.1.105)\n",
            "Requirement already satisfied: triton==2.2.0 in /usr/local/lib/python3.10/dist-packages (from torch>=1.10.0->accelerate) (2.2.0)\n",
            "Requirement already satisfied: nvidia-nvjitlink-cu12 in /usr/local/lib/python3.10/dist-packages (from nvidia-cusolver-cu12==11.4.5.107->torch>=1.10.0->accelerate) (12.4.127)\n",
            "Requirement already satisfied: requests in /usr/local/lib/python3.10/dist-packages (from huggingface-hub->accelerate) (2.31.0)\n",
            "Requirement already satisfied: tqdm>=4.42.1 in /usr/local/lib/python3.10/dist-packages (from huggingface-hub->accelerate) (4.66.2)\n",
            "Requirement already satisfied: MarkupSafe>=2.0 in /usr/local/lib/python3.10/dist-packages (from jinja2->torch>=1.10.0->accelerate) (2.1.5)\n",
            "Requirement already satisfied: charset-normalizer<4,>=2 in /usr/local/lib/python3.10/dist-packages (from requests->huggingface-hub->accelerate) (3.3.2)\n",
            "Requirement already satisfied: idna<4,>=2.5 in /usr/local/lib/python3.10/dist-packages (from requests->huggingface-hub->accelerate) (3.6)\n",
            "Requirement already satisfied: urllib3<3,>=1.21.1 in /usr/local/lib/python3.10/dist-packages (from requests->huggingface-hub->accelerate) (2.0.7)\n",
            "Requirement already satisfied: certifi>=2017.4.17 in /usr/local/lib/python3.10/dist-packages (from requests->huggingface-hub->accelerate) (2024.2.2)\n",
            "Requirement already satisfied: mpmath>=0.19 in /usr/local/lib/python3.10/dist-packages (from sympy->torch>=1.10.0->accelerate) (1.3.0)\n",
            "Requirement already satisfied: datasets in /usr/local/lib/python3.10/dist-packages (2.18.0)\n",
            "Requirement already satisfied: filelock in /usr/local/lib/python3.10/dist-packages (from datasets) (3.13.3)\n",
            "Requirement already satisfied: numpy>=1.17 in /usr/local/lib/python3.10/dist-packages (from datasets) (1.25.2)\n",
            "Requirement already satisfied: pyarrow>=12.0.0 in /usr/local/lib/python3.10/dist-packages (from datasets) (14.0.2)\n",
            "Requirement already satisfied: pyarrow-hotfix in /usr/local/lib/python3.10/dist-packages (from datasets) (0.6)\n",
            "Requirement already satisfied: dill<0.3.9,>=0.3.0 in /usr/local/lib/python3.10/dist-packages (from datasets) (0.3.8)\n",
            "Requirement already satisfied: pandas in /usr/local/lib/python3.10/dist-packages (from datasets) (2.0.3)\n",
            "Requirement already satisfied: requests>=2.19.0 in /usr/local/lib/python3.10/dist-packages (from datasets) (2.31.0)\n",
            "Requirement already satisfied: tqdm>=4.62.1 in /usr/local/lib/python3.10/dist-packages (from datasets) (4.66.2)\n",
            "Requirement already satisfied: xxhash in /usr/local/lib/python3.10/dist-packages (from datasets) (3.4.1)\n",
            "Requirement already satisfied: multiprocess in /usr/local/lib/python3.10/dist-packages (from datasets) (0.70.16)\n",
            "Requirement already satisfied: fsspec[http]<=2024.2.0,>=2023.1.0 in /usr/local/lib/python3.10/dist-packages (from datasets) (2023.6.0)\n",
            "Requirement already satisfied: aiohttp in /usr/local/lib/python3.10/dist-packages (from datasets) (3.9.3)\n",
            "Requirement already satisfied: huggingface-hub>=0.19.4 in /usr/local/lib/python3.10/dist-packages (from datasets) (0.20.3)\n",
            "Requirement already satisfied: packaging in /usr/local/lib/python3.10/dist-packages (from datasets) (24.0)\n",
            "Requirement already satisfied: pyyaml>=5.1 in /usr/local/lib/python3.10/dist-packages (from datasets) (6.0.1)\n",
            "Requirement already satisfied: aiosignal>=1.1.2 in /usr/local/lib/python3.10/dist-packages (from aiohttp->datasets) (1.3.1)\n",
            "Requirement already satisfied: attrs>=17.3.0 in /usr/local/lib/python3.10/dist-packages (from aiohttp->datasets) (23.2.0)\n",
            "Requirement already satisfied: frozenlist>=1.1.1 in /usr/local/lib/python3.10/dist-packages (from aiohttp->datasets) (1.4.1)\n",
            "Requirement already satisfied: multidict<7.0,>=4.5 in /usr/local/lib/python3.10/dist-packages (from aiohttp->datasets) (6.0.5)\n",
            "Requirement already satisfied: yarl<2.0,>=1.0 in /usr/local/lib/python3.10/dist-packages (from aiohttp->datasets) (1.9.4)\n",
            "Requirement already satisfied: async-timeout<5.0,>=4.0 in /usr/local/lib/python3.10/dist-packages (from aiohttp->datasets) (4.0.3)\n",
            "Requirement already satisfied: typing-extensions>=3.7.4.3 in /usr/local/lib/python3.10/dist-packages (from huggingface-hub>=0.19.4->datasets) (4.10.0)\n",
            "Requirement already satisfied: charset-normalizer<4,>=2 in /usr/local/lib/python3.10/dist-packages (from requests>=2.19.0->datasets) (3.3.2)\n",
            "Requirement already satisfied: idna<4,>=2.5 in /usr/local/lib/python3.10/dist-packages (from requests>=2.19.0->datasets) (3.6)\n",
            "Requirement already satisfied: urllib3<3,>=1.21.1 in /usr/local/lib/python3.10/dist-packages (from requests>=2.19.0->datasets) (2.0.7)\n",
            "Requirement already satisfied: certifi>=2017.4.17 in /usr/local/lib/python3.10/dist-packages (from requests>=2.19.0->datasets) (2024.2.2)\n",
            "Requirement already satisfied: python-dateutil>=2.8.2 in /usr/local/lib/python3.10/dist-packages (from pandas->datasets) (2.8.2)\n",
            "Requirement already satisfied: pytz>=2020.1 in /usr/local/lib/python3.10/dist-packages (from pandas->datasets) (2023.4)\n",
            "Requirement already satisfied: tzdata>=2022.1 in /usr/local/lib/python3.10/dist-packages (from pandas->datasets) (2024.1)\n",
            "Requirement already satisfied: six>=1.5 in /usr/local/lib/python3.10/dist-packages (from python-dateutil>=2.8.2->pandas->datasets) (1.16.0)\n",
            "Requirement already satisfied: transformers in /usr/local/lib/python3.10/dist-packages (4.38.2)\n",
            "Requirement already satisfied: filelock in /usr/local/lib/python3.10/dist-packages (from transformers) (3.13.3)\n",
            "Requirement already satisfied: huggingface-hub<1.0,>=0.19.3 in /usr/local/lib/python3.10/dist-packages (from transformers) (0.20.3)\n",
            "Requirement already satisfied: numpy>=1.17 in /usr/local/lib/python3.10/dist-packages (from transformers) (1.25.2)\n",
            "Requirement already satisfied: packaging>=20.0 in /usr/local/lib/python3.10/dist-packages (from transformers) (24.0)\n",
            "Requirement already satisfied: pyyaml>=5.1 in /usr/local/lib/python3.10/dist-packages (from transformers) (6.0.1)\n",
            "Requirement already satisfied: regex!=2019.12.17 in /usr/local/lib/python3.10/dist-packages (from transformers) (2023.12.25)\n",
            "Requirement already satisfied: requests in /usr/local/lib/python3.10/dist-packages (from transformers) (2.31.0)\n",
            "Requirement already satisfied: tokenizers<0.19,>=0.14 in /usr/local/lib/python3.10/dist-packages (from transformers) (0.15.2)\n",
            "Requirement already satisfied: safetensors>=0.4.1 in /usr/local/lib/python3.10/dist-packages (from transformers) (0.4.2)\n",
            "Requirement already satisfied: tqdm>=4.27 in /usr/local/lib/python3.10/dist-packages (from transformers) (4.66.2)\n",
            "Requirement already satisfied: fsspec>=2023.5.0 in /usr/local/lib/python3.10/dist-packages (from huggingface-hub<1.0,>=0.19.3->transformers) (2023.6.0)\n",
            "Requirement already satisfied: typing-extensions>=3.7.4.3 in /usr/local/lib/python3.10/dist-packages (from huggingface-hub<1.0,>=0.19.3->transformers) (4.10.0)\n",
            "Requirement already satisfied: charset-normalizer<4,>=2 in /usr/local/lib/python3.10/dist-packages (from requests->transformers) (3.3.2)\n",
            "Requirement already satisfied: idna<4,>=2.5 in /usr/local/lib/python3.10/dist-packages (from requests->transformers) (3.6)\n",
            "Requirement already satisfied: urllib3<3,>=1.21.1 in /usr/local/lib/python3.10/dist-packages (from requests->transformers) (2.0.7)\n",
            "Requirement already satisfied: certifi>=2017.4.17 in /usr/local/lib/python3.10/dist-packages (from requests->transformers) (2024.2.2)\n"
          ]
        }
      ],
      "source": [
        "!pip install accelerate\n",
        "!pip install datasets\n",
        "from datasets import load_dataset\n",
        "# !pip install evaluate\n",
        "!pip install transformers\n",
        "# !pip install git+https://github.com/huggingface/transformers\n",
        "import numpy as np\n",
        "import torch\n",
        "import matplotlib.pyplot as plt\n",
        "import functools\n",
        "import pickle\n",
        "np.random.seed(2024)"
      ]
    },
    {
      "cell_type": "code",
      "source": [
        "# Modified code below to move model out of function\n",
        "\n",
        "import torch\n",
        "# from transformers import DistilBertModel, DistilBertTokenizer, DistilBertConfig\n",
        "device = torch.device(\"cuda\" if torch.cuda.is_available() else \"cpu\")\n",
        "\n",
        "from transformers import BertModel, BertConfig, BertTokenizer\n",
        "\n",
        "model_name = \"huawei-noah/TinyBERT_General_4L_312D\"\n",
        "config = BertConfig.from_pretrained(model_name)#, output_hidden_states=True, output_attentions=True)\n",
        "tokenizer = BertTokenizer.from_pretrained(model_name)\n",
        "model = BertModel.from_pretrained(model_name, config=config)"
      ],
      "metadata": {
        "colab": {
          "base_uri": "https://localhost:8080/"
        },
        "id": "fV_XHss-D_ts",
        "outputId": "1618f9e8-deba-43f4-bf94-2c722754164d"
      },
      "execution_count": null,
      "outputs": [
        {
          "output_type": "stream",
          "name": "stderr",
          "text": [
            "/usr/local/lib/python3.10/dist-packages/huggingface_hub/utils/_token.py:88: UserWarning: \n",
            "The secret `HF_TOKEN` does not exist in your Colab secrets.\n",
            "To authenticate with the Hugging Face Hub, create a token in your settings tab (https://huggingface.co/settings/tokens), set it as secret in your Google Colab and restart your session.\n",
            "You will be able to reuse this secret in all of your notebooks.\n",
            "Please note that authentication is recommended but still optional to access public models or datasets.\n",
            "  warnings.warn(\n"
          ]
        }
      ]
    },
    {
      "cell_type": "code",
      "source": [
        "dataset = load_dataset(\"abokbot/wikipedia-first-paragraph\")"
      ],
      "metadata": {
        "id": "BWVPq4UOEBWp"
      },
      "execution_count": null,
      "outputs": []
    },
    {
      "cell_type": "code",
      "source": [
        "def get_inputs(model, texts):\n",
        "\n",
        "    for input_text in texts:\n",
        "\n",
        "      # Tokenize input text\n",
        "      inputs = tokenizer(input_text, return_tensors=\"pt\", max_length=512, truncation=True)\n",
        "      inputs.to(device)\n",
        "      # print(len(inputs))\n",
        "\n",
        "      # Forward pass through the model\n",
        "      with torch.no_grad():\n",
        "          outputs = model(**inputs)\n",
        "      # print(len(outputs))\n",
        "\n",
        "    return\n",
        "\n",
        "def sample_X(num_paragraphs, num_rows, text_file_name, idxs_file_name, layer):\n",
        "    # Sample input text\n",
        "    # input_text = [\"Hello, how are you?\", \"Let's try with 2 sentences...Does making this longer do anything?\",\n",
        "    # \"What about a third entry?\", \"Or a 4th?\", \"Let's check a 5th because 4 is used somewhere else\"]\n",
        "    model = BertModel.from_pretrained(model_name, config=config, device_map=device)\n",
        "    model = model.to(device)\n",
        "\n",
        "    inputs = dict()\n",
        "    # repeat for each of the 4 layers, change hook addition too\n",
        "    inputs[f'attention_{layer}_Q'] = list()\n",
        "    inputs[f'attention_{layer}_K'] = list()\n",
        "    inputs[f'attention_{layer}_FF'] = list()\n",
        "    inputs[f'FF_intermediate_{layer}'] = list()\n",
        "    inputs[f'FF_output_{layer}'] = list()\n",
        "\n",
        "    def get_input(name):\n",
        "        def hook(model, input):\n",
        "            inputs[name].append(input)\n",
        "        return hook\n",
        "    model.encoder.layer[layer].attention.self.query.register_forward_pre_hook(get_input(f'attention_{layer}_Q'))\n",
        "    model.encoder.layer[layer].attention.self.key.register_forward_pre_hook(get_input(f'attention_{layer}_K'))\n",
        "    model.encoder.layer[layer].attention.output.dense.register_forward_pre_hook(get_input(f'attention_{layer}_FF'))\n",
        "    model.encoder.layer[layer].intermediate.dense.register_forward_pre_hook(get_input(f'FF_intermediate_{layer}'))\n",
        "    model.encoder.layer[layer].output.dense.register_forward_pre_hook(get_input(f'FF_output_{layer}'))\n",
        "    # model.encoder.layer[0].output.LayerNorm.register_forward_pre_hook(get_input('attention_1'))\n",
        "    # model.encoder.layer[1].attention.output.LayerNorm.register_forward_pre_hook(get_input('FF_1'))\n",
        "    # model.encoder.layer[1].output.LayerNorm.register_forward_pre_hook(get_input('attention_2'))\n",
        "    # model.encoder.layer[2].attention.output.LayerNorm.register_forward_pre_hook(get_input('FF_2'))\n",
        "    # model.encoder.layer[2].output.LayerNorm.register_forward_pre_hook(get_input('attention_3'))\n",
        "    # model.encoder.layer[3].attention.output.LayerNorm.register_forward_pre_hook(get_input('FF_3'))\n",
        "    # model.encoder.layer[0].attention.output.LayerNorm.register_forward_hook(get_input('dense_0'))\n",
        "    np.random.shuffle(dataset['train']['text'])\n",
        "    input_text = dataset['train']['text'][:num_paragraphs]\n",
        "    with open(text_file_name, 'wb') as f:\n",
        "      pickle.dump(input_text, f)\n",
        "\n",
        "    get_inputs(model, input_text)\n",
        "    Xs_complete = dict()\n",
        "    for key, values in inputs.items():\n",
        "      # print(key)\n",
        "      # for arr in values[:10]:\n",
        "      #   print(arr[0].shape)\n",
        "      # print(arr[0] for arr in values[:10])\n",
        "      Xs_complete[key] = torch.cat(tuple(arr[0][0] for arr in values))\n",
        "    # X_complete = torch.cat(tuple(arr[0] for arr in inputs['attention_0']))\n",
        "    # print(X_complete.shape)\n",
        "    # return Xs_complete\n",
        "\n",
        "    print(Xs_complete[f'attention_{layer}_Q'].shape, Xs_complete[f'attention_{layer}_K'].shape, Xs_complete[f'attention_{layer}_FF'].shape, Xs_complete[f'FF_intermediate_{layer}'].shape, Xs_complete[f'FF_output_{layer}'].shape)\n",
        "    idxs = np.random.default_rng().choice(range(Xs_complete[f'attention_{layer}_Q'].shape[0]), num_rows)\n",
        "    idxs = torch.tensor(idxs)\n",
        "    with open(idxs_file_name, 'wb') as f:\n",
        "      pickle.dump(idxs, f)\n",
        "    Xs_small = dict()\n",
        "    for key, values in Xs_complete.items():\n",
        "      Xs_small[key] = values[idxs]\n",
        "      # X_small = X_complete[idxs]\n",
        "    # print(X_small.shape)\n",
        "    return Xs_small"
      ],
      "metadata": {
        "id": "ZnJZIKOSEVxf"
      },
      "execution_count": null,
      "outputs": []
    },
    {
      "cell_type": "code",
      "source": [
        "W = model.encoder.layer[0].intermediate.dense.weight.detach().cpu().numpy()\n",
        "X_train = sample_X(5000, 5000, 'train_input_text.pkl', 'Xs_train_small_idxs.pkl', 3)\n",
        "X_test = sample_X(500, 500, 'test_input_text.pkl', 'Xs_test_small_idxs.pkl', 3)"
      ],
      "metadata": {
        "colab": {
          "base_uri": "https://localhost:8080/"
        },
        "id": "kAilu23rJDWz",
        "outputId": "b4341306-e36d-434f-8370-f14ae6e151f2"
      },
      "execution_count": null,
      "outputs": [
        {
          "output_type": "stream",
          "name": "stdout",
          "text": [
            "torch.Size([459971, 312]) torch.Size([459971, 312]) torch.Size([459971, 312]) torch.Size([459971, 312]) torch.Size([459971, 1200])\n",
            "torch.Size([44748, 312]) torch.Size([44748, 312]) torch.Size([44748, 312]) torch.Size([44748, 312]) torch.Size([44748, 1200])\n"
          ]
        }
      ]
    },
    {
      "cell_type": "code",
      "source": [
        "for key, value in X_train.items():\n",
        "  with open(f\"X_train_{key}.npy\", 'wb') as f:\n",
        "    np.save(f, value.cpu())\n",
        "\n",
        "for key, value in X_test.items():\n",
        "  with open(f\"X_test_{key}.npy\", 'wb') as f:\n",
        "    np.save(f, value.cpu())"
      ],
      "metadata": {
        "id": "3zoZWCnqJNTm"
      },
      "execution_count": null,
      "outputs": []
    }
  ]
}